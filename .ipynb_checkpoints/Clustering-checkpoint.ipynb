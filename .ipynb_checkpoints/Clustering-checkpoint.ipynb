{
 "cells": [
  {
   "cell_type": "code",
   "execution_count": 29,
   "id": "05960767-50a3-4d97-b559-12dd770c9364",
   "metadata": {
    "tags": []
   },
   "outputs": [],
   "source": [
    "import pandas as pd\n",
    "import numpy as np\n",
    "import hdbscan\n",
    "import laspy"
   ]
  },
  {
   "cell_type": "code",
   "execution_count": 2,
   "id": "52949182-c317-421a-9142-963c1d1ab021",
   "metadata": {},
   "outputs": [],
   "source": [
    "file = 'C:\\Users\\pcuser\\Documents\\DJI\\DJITerra\\christiancandido.ati@gmail.com\\University Avenue\\models\\pc\\0\\terra_las\\cloud.las'"
   ]
  },
  {
   "cell_type": "code",
   "execution_count": 5,
   "id": "440b3589-7633-44db-9fce-c5eef8d56b12",
   "metadata": {},
   "outputs": [],
   "source": [
    "las_file = laspy.read(file)"
   ]
  },
  {
   "cell_type": "code",
   "execution_count": 6,
   "id": "c13307e0-e24e-42ab-8b06-262a1a2084d2",
   "metadata": {
    "tags": []
   },
   "outputs": [],
   "source": [
    "points = las_file.points"
   ]
  },
  {
   "cell_type": "code",
   "execution_count": 13,
   "id": "90e1c769-2577-44e9-bb25-4c362d2b2233",
   "metadata": {
    "tags": []
   },
   "outputs": [
    {
     "data": {
      "text/plain": [
       "<LasHeader(1.2, <PointFormat(2, 0 bytes of extra dims)>)>"
      ]
     },
     "execution_count": 13,
     "metadata": {},
     "output_type": "execute_result"
    }
   ],
   "source": [
    "las_file.header"
   ]
  },
  {
   "cell_type": "code",
   "execution_count": 14,
   "id": "a9d4ae16-e410-4d20-ba66-731e95491495",
   "metadata": {
    "tags": []
   },
   "outputs": [],
   "source": [
    "point_format = las_file.point_format"
   ]
  },
  {
   "cell_type": "code",
   "execution_count": 15,
   "id": "af80b476-3f24-4239-a521-2b50968fcebd",
   "metadata": {
    "tags": []
   },
   "outputs": [
    {
     "data": {
      "text/plain": [
       "['X',\n",
       " 'Y',\n",
       " 'Z',\n",
       " 'intensity',\n",
       " 'return_number',\n",
       " 'number_of_returns',\n",
       " 'scan_direction_flag',\n",
       " 'edge_of_flight_line',\n",
       " 'classification',\n",
       " 'synthetic',\n",
       " 'key_point',\n",
       " 'withheld',\n",
       " 'scan_angle_rank',\n",
       " 'user_data',\n",
       " 'point_source_id',\n",
       " 'red',\n",
       " 'green',\n",
       " 'blue']"
      ]
     },
     "execution_count": 15,
     "metadata": {},
     "output_type": "execute_result"
    }
   ],
   "source": [
    "list(point_format.dimension_names)"
   ]
  },
  {
   "cell_type": "code",
   "execution_count": 33,
   "id": "5ab491ec-6f2a-4cdb-9adf-9e200a094230",
   "metadata": {
    "tags": []
   },
   "outputs": [],
   "source": [
    "df = pd.DataFrame()\n",
    "df['X'] = points.X\n",
    "df['Y'] = points.Y\n",
    "df['Z'] = points.Z\n",
    "df['R'] = points.red\n",
    "df['G'] = points.green\n",
    "df['B'] = points.blue"
   ]
  },
  {
   "cell_type": "code",
   "execution_count": 37,
   "id": "449811e3-662c-4148-80c0-587880b26b06",
   "metadata": {
    "tags": []
   },
   "outputs": [],
   "source": [
    "clusterer = hdbscan.HDBSCAN(min_cluster_size=10)"
   ]
  },
  {
   "cell_type": "code",
   "execution_count": 38,
   "id": "a1617268-f6ef-4db6-8691-af1469d29bdc",
   "metadata": {
    "tags": []
   },
   "outputs": [],
   "source": [
    "labels = clusterer.fit_predict(df)"
   ]
  },
  {
   "cell_type": "code",
   "execution_count": 43,
   "id": "0cc7c609-5b4f-4322-8f6f-029f3cf32a28",
   "metadata": {
    "tags": []
   },
   "outputs": [],
   "source": [
    "df['L'] = labels"
   ]
  },
  {
   "cell_type": "code",
   "execution_count": 44,
   "id": "11233ce7-2c88-4237-9e1c-5891d64a54ed",
   "metadata": {
    "tags": []
   },
   "outputs": [
    {
     "data": {
      "text/plain": [
       "3043"
      ]
     },
     "execution_count": 44,
     "metadata": {},
     "output_type": "execute_result"
    }
   ],
   "source": [
    "len(df['L'].unique())"
   ]
  },
  {
   "cell_type": "code",
   "execution_count": 45,
   "id": "e263dfe4-67cb-429f-b3d9-be8deb9df730",
   "metadata": {
    "tags": []
   },
   "outputs": [],
   "source": [
    "del df"
   ]
  },
  {
   "cell_type": "code",
   "execution_count": null,
   "id": "7dcad3ad-60d3-4ef3-8034-5e4f42331f34",
   "metadata": {},
   "outputs": [],
   "source": []
  }
 ],
 "metadata": {
  "kernelspec": {
   "display_name": "Python 3 (ipykernel)",
   "language": "python",
   "name": "python3"
  },
  "language_info": {
   "codemirror_mode": {
    "name": "ipython",
    "version": 3
   },
   "file_extension": ".py",
   "mimetype": "text/x-python",
   "name": "python",
   "nbconvert_exporter": "python",
   "pygments_lexer": "ipython3",
   "version": "3.11.3"
  }
 },
 "nbformat": 4,
 "nbformat_minor": 5
}
