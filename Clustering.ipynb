{
 "cells": [
  {
   "cell_type": "code",
   "execution_count": 1,
   "id": "05960767-50a3-4d97-b559-12dd770c9364",
   "metadata": {
    "tags": []
   },
   "outputs": [],
   "source": [
    "# Data Manipulation\n",
    "import numpy as np\n",
    "import pandas as pd \n",
    "\n",
    "# LAS \n",
    "import laspy\n",
    "import CSF\n",
    "\n",
    "# Clustering\n",
    "import hdbscan"
   ]
  },
  {
   "cell_type": "code",
   "execution_count": 38,
   "id": "52949182-c317-421a-9142-963c1d1ab021",
   "metadata": {},
   "outputs": [],
   "source": [
    "file = r'C:/Users/pcuser/Documents/Acads/GmE 203/Project/LAS File/cloud.las' # Point Cloud "
   ]
  },
  {
   "cell_type": "code",
   "execution_count": 40,
   "id": "440b3589-7633-44db-9fce-c5eef8d56b12",
   "metadata": {},
   "outputs": [
    {
     "data": {
      "text/plain": [
       "<ScaleAwarePointRecord(fmt: <PointFormat(2, 0 bytes of extra dims)>, len: 858253, point size: 26)>"
      ]
     },
     "execution_count": 40,
     "metadata": {},
     "output_type": "execute_result"
    }
   ],
   "source": [
    "las_file = laspy.read(file) # Read LAS File \n",
    "points = las_file.points # Access Point Cloud \n",
    "points"
   ]
  },
  {
   "cell_type": "code",
   "execution_count": 22,
   "id": "a9d4ae16-e410-4d20-ba66-731e95491495",
   "metadata": {
    "tags": []
   },
   "outputs": [
    {
     "data": {
      "text/plain": [
       "['X',\n",
       " 'Y',\n",
       " 'Z',\n",
       " 'intensity',\n",
       " 'return_number',\n",
       " 'number_of_returns',\n",
       " 'scan_direction_flag',\n",
       " 'edge_of_flight_line',\n",
       " 'classification',\n",
       " 'synthetic',\n",
       " 'key_point',\n",
       " 'withheld',\n",
       " 'scan_angle_rank',\n",
       " 'user_data',\n",
       " 'point_source_id',\n",
       " 'red',\n",
       " 'green',\n",
       " 'blue']"
      ]
     },
     "execution_count": 22,
     "metadata": {},
     "output_type": "execute_result"
    }
   ],
   "source": [
    "point_format = las_file.point_format # Access properties of point clouds\n",
    "list(point_format.dimension_names)"
   ]
  },
  {
   "cell_type": "code",
   "execution_count": 46,
   "id": "6881da70",
   "metadata": {},
   "outputs": [],
   "source": [
    "point_cloud = np.vstack((points.x, points.y, points.z)).transpose() # Extract X, Y, Z and put into a List "
   ]
  },
  {
   "cell_type": "code",
   "execution_count": 47,
   "id": "d9d4158e",
   "metadata": {},
   "outputs": [],
   "source": [
    "csf = CSF.CSF()\n",
    "\n",
    "# Parameter Setting\n",
    "csf.params.bSloopSmooth = False\n",
    "csf.params.cloth_resolution = 0.50 # more details about parameter: http://ramm.bnu.edu.cn/projects/CSF/download/"
   ]
  },
  {
   "cell_type": "code",
   "execution_count": 92,
   "id": "993456d0",
   "metadata": {},
   "outputs": [],
   "source": [
    "csf.setPointCloud(point_cloud)\n",
    "\n",
    "ground = CSF.VecInt() # a list to indicate the index of ground points after calculation\n",
    "non_ground = CSF.VecInt() # a list to indicate the index of non-ground points after calculation\n",
    "csf.do_filtering(ground, non_ground)"
   ]
  },
  {
   "cell_type": "code",
   "execution_count": 108,
   "id": "72bc2d1e",
   "metadata": {},
   "outputs": [],
   "source": [
    "outFile = laspy.LasData(las_file.header)\n",
    "outFile.points = points[np.array(non_ground)] # extract non_ground points, and save it to a las file."
   ]
  },
  {
   "cell_type": "code",
   "execution_count": 109,
   "id": "525b114c",
   "metadata": {},
   "outputs": [],
   "source": [
    "outFile.write(r\"C:/Users/pcuser/Documents/Acads/GmE 203/Project/LAS File/out.las\")"
   ]
  },
  {
   "cell_type": "code",
   "execution_count": 110,
   "id": "adae0749",
   "metadata": {},
   "outputs": [],
   "source": [
    "outPoint_format = outFile.point_format # Access properties of point clouds\n",
    "list(outPoint_format.dimension_names)\n",
    "\n",
    "outPoints = outFile.points\n",
    "\n",
    "outPoint_cloud = np.vstack((outPoints.x, outPoints.y, outPoints.z, outPoints.red, outPoints.blue, outPoints.green)).transpose() # Extract X, Y, Z and put into a List "
   ]
  },
  {
   "cell_type": "code",
   "execution_count": 111,
   "id": "449811e3-662c-4148-80c0-587880b26b06",
   "metadata": {
    "tags": []
   },
   "outputs": [],
   "source": [
    "# Set-up parameter for HDBSCAN\n",
    "clusterer = hdbscan.HDBSCAN(min_cluster_size=100)"
   ]
  },
  {
   "cell_type": "code",
   "execution_count": 112,
   "id": "a1617268-f6ef-4db6-8691-af1469d29bdc",
   "metadata": {
    "tags": []
   },
   "outputs": [],
   "source": [
    "# Cluster point clouds using HDBSCAN\n",
    "labels = clusterer.fit_predict(outPoint_cloud)"
   ]
  },
  {
   "cell_type": "code",
   "execution_count": 113,
   "id": "82fd59fa",
   "metadata": {},
   "outputs": [],
   "source": [
    "# Create a new header for clustered label\n",
    "header = laspy.LasHeader(point_format=3, version=\"1.2\") \n",
    "header.add_extra_dim(laspy.ExtraBytesParams(name=\"Clusters\", type=np.int32))"
   ]
  },
  {
   "cell_type": "code",
   "execution_count": 114,
   "id": "ef354a12",
   "metadata": {},
   "outputs": [],
   "source": [
    "las = laspy.LasData(header)\n",
    "\n",
    "las.x = outPoints.x     # x-coordinate\n",
    "las.y = outPoints.y     # y-coordinate\n",
    "las.z = outPoints.z     # z-coordinate\n",
    "las.Clusters = labels   # clustered label\n",
    "las.write(r\"C:/Users/pcuser/Documents/Acads/GmE 203/Project/LAS File/classified.las\") # write las file "
   ]
  },
  {
   "cell_type": "code",
   "execution_count": 115,
   "id": "00e9983b",
   "metadata": {},
   "outputs": [],
   "source": [
    "del clusterer, labels"
   ]
  },
  {
   "cell_type": "code",
   "execution_count": null,
   "id": "46186094",
   "metadata": {},
   "outputs": [],
   "source": []
  }
 ],
 "metadata": {
  "kernelspec": {
   "display_name": "Python 3 (ipykernel)",
   "language": "python",
   "name": "python3"
  },
  "language_info": {
   "codemirror_mode": {
    "name": "ipython",
    "version": 3
   },
   "file_extension": ".py",
   "mimetype": "text/x-python",
   "name": "python",
   "nbconvert_exporter": "python",
   "pygments_lexer": "ipython3",
   "version": "3.11.3"
  }
 },
 "nbformat": 4,
 "nbformat_minor": 5
}
