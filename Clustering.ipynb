{
 "cells": [
  {
   "cell_type": "code",
   "execution_count": 1,
   "id": "93fc9d73",
   "metadata": {},
   "outputs": [],
   "source": [
    "# By Cristian Perez \n",
    "# By Christian Candido"
   ]
  },
  {
   "cell_type": "code",
   "execution_count": 21,
   "id": "05960767-50a3-4d97-b559-12dd770c9364",
   "metadata": {
    "tags": []
   },
   "outputs": [],
   "source": [
    "import os\n",
    "import time\n",
    "import psutil\n",
    "\n",
    "\n",
    "# Data Manipulation\n",
    "import base64\n",
    "import numpy as np\n",
    "import pandas as pd \n",
    "\n",
    "# LAS \n",
    "import laspy\n",
    "import CSF\n",
    "from laspy.file import File\n",
    "\n",
    "# Clustering\n",
    "import hdbscan\n",
    "\n",
    "# data visualization\n",
    "import matplotlib.pyplot as plt\n",
    "from yellowbrick.cluster import KElbowVisualizer # cluster visualizer\n",
    "%matplotlib inline\n",
    "\n",
    "# sklearn kmeans\n",
    "from sklearn.cluster import KMeans\n",
    "from sklearn.metrics.cluster import contingency_matrix\n",
    "from pyclustering.cluster import cluster_visualizer\n",
    "\n",
    "# Segment-LiDAR\n",
    "from segment_lidar import samlidar"
   ]
  },
  {
   "cell_type": "code",
   "execution_count": 22,
   "id": "52949182-c317-421a-9142-963c1d1ab021",
   "metadata": {},
   "outputs": [],
   "source": [
    "pc_treesFile = r\"C:/Users/pcuser/Documents/Acads/GmE 203/Project/LAS DATA/PC_UPAVE.las\"    # Point Cloud w/ Trees\n",
    "pc_urbanFile = r\"C:/Users/pcuser/Documents/Acads/GmE 203/Project/LAS DATA/PC_ZAMBALES.las\" # Point Cloud w/ Buildings"
   ]
  },
  {
   "cell_type": "code",
   "execution_count": 23,
   "id": "440b3589-7633-44db-9fce-c5eef8d56b12",
   "metadata": {},
   "outputs": [],
   "source": [
    "las_trees = laspy.read(pc_treesFile) # Read LAS File\n",
    "las_urban = laspy.read(pc_urbanFile) \n",
    "points_trees = las_trees.points      # Access Point Cloud \n",
    "points_urban = las_urban.points"
   ]
  },
  {
   "cell_type": "code",
   "execution_count": 24,
   "id": "a9d4ae16-e410-4d20-ba66-731e95491495",
   "metadata": {
    "tags": []
   },
   "outputs": [],
   "source": [
    "point_format = points_trees.point_format # Access properties of point clouds"
   ]
  },
  {
   "cell_type": "code",
   "execution_count": 25,
   "id": "6881da70",
   "metadata": {},
   "outputs": [],
   "source": [
    "# Extract X, Y, Z and put into a List \n",
    "pc_trees = np.vstack((points_trees.x, points_trees.y, points_trees.z)).transpose() \n",
    "pc_urban = np.vstack((points_urban.x, points_urban.y, points_urban.z)).transpose() "
   ]
  },
  {
   "cell_type": "code",
   "execution_count": 26,
   "id": "d9d4158e",
   "metadata": {},
   "outputs": [],
   "source": [
    "csf = CSF.CSF()\n",
    "\n",
    "# Parameter Setting\n",
    "csf.params.bSloopSmooth = False\n",
    "csf.params.cloth_resolution = 0.50 # more details about parameter: http://ramm.bnu.edu.cn/projects/CSF/download/"
   ]
  },
  {
   "attachments": {},
   "cell_type": "markdown",
   "id": "dca673da",
   "metadata": {},
   "source": [
    "##### Point Cloud Dominated with Trees"
   ]
  },
  {
   "cell_type": "code",
   "execution_count": 28,
   "id": "993456d0",
   "metadata": {},
   "outputs": [],
   "source": [
    "csf.setPointCloud(pc_trees)\n",
    "\n",
    "ground = CSF.VecInt() # a list to indicate the index of ground points after calculation\n",
    "non_ground = CSF.VecInt() # a list to indicate the index of non-ground points after calculation\n",
    "csf.do_filtering(ground, non_ground)"
   ]
  },
  {
   "cell_type": "code",
   "execution_count": 29,
   "id": "07a87eb1",
   "metadata": {},
   "outputs": [],
   "source": [
    "outFile = laspy.LasData(las_trees.header)\n",
    "outFile.points = points_trees[np.array(non_ground)] # extract non_ground points, and save it to a las file."
   ]
  },
  {
   "cell_type": "code",
   "execution_count": 30,
   "id": "c5fb9cc5",
   "metadata": {},
   "outputs": [],
   "source": [
    "outFile.write(r\"C:/Users/pcuser/Documents/Acads/GmE 203/Project/LAS Data/pc_UPAVE_out_non-ground.las\")"
   ]
  },
  {
   "cell_type": "code",
   "execution_count": 31,
   "id": "bd9e5b7f",
   "metadata": {},
   "outputs": [],
   "source": [
    "outPoints = outFile.points\n",
    "\n",
    "outPoint_cloud = np.vstack((outPoints.x, outPoints.y, outPoints.z, outPoints.red, outPoints.blue, outPoints.green)).transpose() # Extract X, Y, Z and put into a List \n",
    "# outPoint_cloud = np.vstack((outPoints.x, outPoints.y, outPoints.z)).transpose()\n",
    "# outPoint_cloud = np.vstack((outPoints.red, outPoints.blue, outPoints.green)).transpose()"
   ]
  },
  {
   "cell_type": "code",
   "execution_count": 32,
   "id": "c8b46f14",
   "metadata": {},
   "outputs": [],
   "source": [
    "xyz = np.vstack((outPoints.x, outPoints.y, outPoints.z)).transpose()\n",
    "\n",
    "x=xyz[:,0]\n",
    "y=xyz[:,1]\n",
    "z=xyz[:,2]\n",
    "\n",
    "xmin = np.floor(np.min(x))\n",
    "ymin = np.floor(np.min(y))\n",
    "zmin = np.floor(np.min(z))"
   ]
  },
  {
   "attachments": {},
   "cell_type": "markdown",
   "id": "87b9c9e4",
   "metadata": {},
   "source": [
    "###### HDBSCan Algorithm"
   ]
  },
  {
   "cell_type": "code",
   "execution_count": 69,
   "id": "0668dbdb",
   "metadata": {},
   "outputs": [],
   "source": [
    "# Start measuring the execution time\n",
    "start_time = time.time()\n",
    "\n",
    "# Start measuring the memory usage\n",
    "start_memory = psutil.Process()"
   ]
  },
  {
   "cell_type": "code",
   "execution_count": 70,
   "id": "63f60f7d",
   "metadata": {},
   "outputs": [],
   "source": [
    "# Set-up parameter for HDBSCAN\n",
    "clusterer = hdbscan.HDBSCAN(min_cluster_size=100)\n",
    "\n",
    "# Cluster point clouds using HDBSCAN\n",
    "labels = clusterer.fit_predict(pc_trees)"
   ]
  },
  {
   "cell_type": "code",
   "execution_count": 71,
   "id": "b9dc6d7b",
   "metadata": {},
   "outputs": [
    {
     "name": "stdout",
     "output_type": "stream",
     "text": [
      "Elapsed Time: 51.983993 seconds\n",
      "Memory Usage: 3430.33 MB\n"
     ]
    }
   ],
   "source": [
    "# End measuring the execution time\n",
    "end_time = time.time()\n",
    "\n",
    "# Calculate the elapsed time\n",
    "elapsed_time = end_time - start_time\n",
    "\n",
    "# Get the memory usage after running the algorithm\n",
    "process = psutil.Process(os.getpid())\n",
    "memory_info = process.memory_info()\n",
    "memory_usage = memory_info.rss / (1024 * 1024)  # Convert to megabytes\n",
    "\n",
    "# Print the results\n",
    "print(\"Elapsed Time: {:.6f} seconds\".format(elapsed_time))\n",
    "print(\"Memory Usage: {:.2f} MB\".format(memory_usage))"
   ]
  },
  {
   "cell_type": "code",
   "execution_count": 72,
   "id": "1a633458",
   "metadata": {},
   "outputs": [
    {
     "name": "stdout",
     "output_type": "stream",
     "text": [
      "No. of Clusters:  45\n"
     ]
    }
   ],
   "source": [
    "print (\"No. of Clusters: \", len(np.unique(labels)))"
   ]
  },
  {
   "cell_type": "code",
   "execution_count": 73,
   "id": "248ed7e6",
   "metadata": {},
   "outputs": [],
   "source": [
    "# Create a new header for clustered label\n",
    "header = laspy.LasHeader(point_format=7, version=\"1.4\") \n",
    "header.add_extra_dim(laspy.ExtraBytesParams(name=\"Clusters\", type=np.int32))"
   ]
  },
  {
   "cell_type": "code",
   "execution_count": 76,
   "id": "acb6c45c",
   "metadata": {},
   "outputs": [],
   "source": [
    "las = laspy.LasData(header)\n",
    "las.header.offset = [xmin,ymin,zmin]\n",
    "las.header.scale = [0.01,0.01,0.01]\n",
    "las.x = points_trees.x     # x-coordinate\n",
    "las.y = points_trees.y     # y-coordinate\n",
    "las.z = points_trees.z     # z-coordinate\n",
    "las.Clusters = labels   # clustered label\n",
    "las.write(r\"C:/Users/pcuser/Documents/Acads/GmE 203/Project/LAS Data/classified_hdbscan_pc_upave.las\") # write las file "
   ]
  },
  {
   "attachments": {},
   "cell_type": "markdown",
   "id": "76db2366",
   "metadata": {},
   "source": [
    "###### Segment-LiDAR"
   ]
  },
  {
   "cell_type": "code",
   "execution_count": 42,
   "id": "bc8f1d9f",
   "metadata": {},
   "outputs": [],
   "source": [
    "# Start measuring the execution time\n",
    "start_time = time.time()\n",
    "\n",
    "# Start measuring the memory usage\n",
    "start_memory = psutil.Process()"
   ]
  },
  {
   "cell_type": "code",
   "execution_count": 43,
   "id": "278bfd79",
   "metadata": {},
   "outputs": [
    {
     "name": "stdout",
     "output_type": "stream",
     "text": [
      "Reading C:/Users/pcuser/Documents/Acads/GmE 203/Project/LAS DATA/PC_UPAVE.las...\n",
      "- Classification value is not provided. Reading all points...\n",
      "- Reading RGB values...\n",
      "File reading is completed in 0.04 seconds. The point cloud contains 858253 points.\n",
      "\n",
      "Applying CSF algorithm...\n",
      "CSF algorithm is completed in 36.92 seconds. The filtered non-ground cloud contains 432399 points.\n",
      "\n",
      "Segmenting the point cloud...\n",
      "- Generating raster image...\n",
      "- Saving raster image...\n",
      "- Applying segment-geospatial to raster image...\n",
      "- Saving segmented image...\n",
      "- Generating segment IDs...\n",
      "Segmentation is completed in 73.45 seconds. Number of instances: 110\n",
      "\n",
      "Writing the segmented point cloud to C:/Users/pcuser/Documents/Acads/GmE 203/Project/LAS Data/classified_segment-lidar_pc_upave.las...\n",
      "Writing is completed in 0.24 seconds.\n",
      "\n"
     ]
    }
   ],
   "source": [
    "out = r\"C:/Users/pcuser/Documents/Acads/GmE 203/Project/LAS Data/classified_segment-lidar_pc_upave.las\"\n",
    "\n",
    "model = samlidar.SamLidar(ckpt_path=\"sam_vit_h_4b8939.pth\")\n",
    "points = model.read(pc_treesFile)\n",
    "cloud, non_ground, ground = model.csf(points)\n",
    "labels, *_ = model.segment(points=cloud, image_path=\"raster.tif\", labels_path=\"labeled.tif\")\n",
    "model.write(points=points, non_ground=non_ground, ground=ground, segment_ids=labels, save_path=out)"
   ]
  },
  {
   "cell_type": "code",
   "execution_count": 45,
   "id": "fba67cfd",
   "metadata": {},
   "outputs": [
    {
     "name": "stdout",
     "output_type": "stream",
     "text": [
      "No. of Clusters:  44\n"
     ]
    }
   ],
   "source": [
    "print (\"No. of Clusters: \", len(np.unique(labels)))"
   ]
  },
  {
   "cell_type": "code",
   "execution_count": 46,
   "id": "cb01f5f5",
   "metadata": {},
   "outputs": [
    {
     "name": "stdout",
     "output_type": "stream",
     "text": [
      "Elapsed Time: 967.809243 seconds\n",
      "Memory Usage: 3310.18 MB\n"
     ]
    }
   ],
   "source": [
    "# End measuring the execution time\n",
    "end_time = time.time()\n",
    "\n",
    "# Calculate the elapsed time\n",
    "elapsed_time = end_time - start_time\n",
    "\n",
    "# Get the memory usage after running the algorithm\n",
    "process = psutil.Process(os.getpid())\n",
    "memory_info = process.memory_info()\n",
    "memory_usage = memory_info.rss / (1024 * 1024)  # Convert to megabytes\n",
    "\n",
    "# Print the results\n",
    "print(\"Elapsed Time: {:.6f} seconds\".format(elapsed_time))\n",
    "print(\"Memory Usage: {:.2f} MB\".format(memory_usage))"
   ]
  },
  {
   "attachments": {},
   "cell_type": "markdown",
   "id": "bb370a77",
   "metadata": {},
   "source": [
    "##### Point Cloud Dominated with Buildings"
   ]
  },
  {
   "cell_type": "code",
   "execution_count": 51,
   "id": "4c2ad085",
   "metadata": {},
   "outputs": [],
   "source": [
    "csf.setPointCloud(pc_urban)\n",
    "\n",
    "ground = CSF.VecInt() # a list to indicate the index of ground points after calculation\n",
    "non_ground = CSF.VecInt() # a list to indicate the index of non-ground points after calculation\n",
    "csf.do_filtering(ground, non_ground)"
   ]
  },
  {
   "cell_type": "code",
   "execution_count": 52,
   "id": "16bff06e",
   "metadata": {},
   "outputs": [],
   "source": [
    "outFile = laspy.LasData(las_urban.header)\n",
    "outFile.points = points_urban[np.array(non_ground)] # extract non_ground points, and save it to a las file."
   ]
  },
  {
   "cell_type": "code",
   "execution_count": 53,
   "id": "e7858c0b",
   "metadata": {},
   "outputs": [],
   "source": [
    "outFile.write(r\"C:/Users/pcuser/Documents/Acads/GmE 203/Project/LAS Data/pc_ZAM_out_non-ground.las\")"
   ]
  },
  {
   "cell_type": "code",
   "execution_count": 54,
   "id": "adae0749",
   "metadata": {},
   "outputs": [],
   "source": [
    "outPoints = outFile.points\n",
    "\n",
    "outPoint_cloud = np.vstack((outPoints.x, outPoints.y, outPoints.z, outPoints.red, outPoints.blue, outPoints.green)).transpose() # Extract X, Y, Z and put into a List \n",
    "# outPoint_cloud = np.vstack((outPoints.x, outPoints.y, outPoints.z)).transpose()\n",
    "# outPoint_cloud = np.vstack((outPoints.red, outPoints.blue, outPoints.green)).transpose()"
   ]
  },
  {
   "cell_type": "code",
   "execution_count": 55,
   "id": "d056e0b0",
   "metadata": {},
   "outputs": [],
   "source": [
    "xyz = np.vstack((outPoints.x, outPoints.y, outPoints.z)).transpose()\n",
    "\n",
    "x=xyz[:,0]\n",
    "y=xyz[:,1]\n",
    "z=xyz[:,2]\n",
    "\n",
    "xmin = np.floor(np.min(x))\n",
    "ymin = np.floor(np.min(y))\n",
    "zmin = np.floor(np.min(z))"
   ]
  },
  {
   "attachments": {},
   "cell_type": "markdown",
   "id": "6f4a9ca9",
   "metadata": {},
   "source": [
    "###### HDBSCan Algorithm"
   ]
  },
  {
   "cell_type": "code",
   "execution_count": 77,
   "id": "2ce730ed",
   "metadata": {},
   "outputs": [],
   "source": [
    "# Start measuring the execution time\n",
    "start_time = time.time()\n",
    "\n",
    "# Start measuring the memory usage\n",
    "start_memory = psutil.Process()"
   ]
  },
  {
   "cell_type": "code",
   "execution_count": 78,
   "id": "449811e3-662c-4148-80c0-587880b26b06",
   "metadata": {
    "tags": []
   },
   "outputs": [],
   "source": [
    "# Set-up parameter for HDBSCAN\n",
    "clusterer = hdbscan.HDBSCAN(min_cluster_size=100)\n",
    "\n",
    "# Cluster point clouds using HDBSCAN\n",
    "labels = clusterer.fit_predict(pc_urban)"
   ]
  },
  {
   "cell_type": "code",
   "execution_count": 79,
   "id": "9fafbb86",
   "metadata": {},
   "outputs": [
    {
     "name": "stdout",
     "output_type": "stream",
     "text": [
      "Elapsed Time: 249.620659 seconds\n",
      "Memory Usage: 3575.50 MB\n"
     ]
    }
   ],
   "source": [
    "# End measuring the execution time\n",
    "end_time = time.time()\n",
    "\n",
    "# Calculate the elapsed time\n",
    "elapsed_time = end_time - start_time\n",
    "\n",
    "# Get the memory usage after running the algorithm\n",
    "process = psutil.Process(os.getpid())\n",
    "memory_info = process.memory_info()\n",
    "memory_usage = memory_info.rss / (1024 * 1024)  # Convert to megabytes\n",
    "\n",
    "# Print the results\n",
    "print(\"Elapsed Time: {:.6f} seconds\".format(elapsed_time))\n",
    "print(\"Memory Usage: {:.2f} MB\".format(memory_usage))"
   ]
  },
  {
   "cell_type": "code",
   "execution_count": 80,
   "id": "5e92db0c",
   "metadata": {},
   "outputs": [
    {
     "name": "stdout",
     "output_type": "stream",
     "text": [
      "No. of Clusters:  241\n"
     ]
    }
   ],
   "source": [
    "print (\"No. of Clusters: \", len(np.unique(labels)))"
   ]
  },
  {
   "cell_type": "code",
   "execution_count": 81,
   "id": "82fd59fa",
   "metadata": {},
   "outputs": [],
   "source": [
    "# Create a new header for clustered label\n",
    "header = laspy.LasHeader(point_format=7, version=\"1.4\") \n",
    "header.add_extra_dim(laspy.ExtraBytesParams(name=\"Clusters\", type=np.int32))"
   ]
  },
  {
   "cell_type": "code",
   "execution_count": 82,
   "id": "ef354a12",
   "metadata": {},
   "outputs": [],
   "source": [
    "las = laspy.LasData(header)\n",
    "las.header.offset = [xmin,ymin,zmin]\n",
    "las.header.scale = [0.01,0.01,0.01]\n",
    "las.x = points_urban.x     # x-coordinate\n",
    "las.y = points_urban.y     # y-coordinate\n",
    "las.z = points_urban.z     # z-coordinate\n",
    "las.Clusters = labels   # clustered label\n",
    "las.write(r\"C:/Users/pcuser/Documents/Acads/GmE 203/Project/LAS Data/classified_hdbscan_pc_zam.las\") # write las file "
   ]
  },
  {
   "attachments": {},
   "cell_type": "markdown",
   "id": "11f60293",
   "metadata": {},
   "source": [
    "###### Segment-LiDAR"
   ]
  },
  {
   "cell_type": "code",
   "execution_count": 62,
   "id": "73a88d59",
   "metadata": {},
   "outputs": [],
   "source": [
    "# Start measuring the execution time\n",
    "start_time = time.time()\n",
    "\n",
    "# Start measuring the memory usage\n",
    "start_memory = psutil.Process()"
   ]
  },
  {
   "cell_type": "code",
   "execution_count": 63,
   "id": "19d7b226",
   "metadata": {},
   "outputs": [
    {
     "name": "stdout",
     "output_type": "stream",
     "text": [
      "Reading C:/Users/pcuser/Documents/Acads/GmE 203/Project/LAS DATA/PC_ZAMBALES.las...\n",
      "- Classification value is not provided. Reading all points...\n",
      "- Reading RGB values...\n",
      "File reading is completed in 0.09 seconds. The point cloud contains 2200062 points.\n",
      "\n",
      "Applying CSF algorithm...\n",
      "CSF algorithm is completed in 12.45 seconds. The filtered non-ground cloud contains 857309 points.\n",
      "\n",
      "Segmenting the point cloud...\n",
      "- Generating raster image...\n",
      "- Saving raster image...\n",
      "- Applying segment-geospatial to raster image...\n",
      "- Saving segmented image...\n",
      "- Generating segment IDs...\n",
      "Segmentation is completed in 69.65 seconds. Number of instances: 115\n",
      "\n",
      "Writing the segmented point cloud to C:/Users/pcuser/Documents/Acads/GmE 203/Project/LAS Data/classified_segment-lidar_pc_zam.las...\n",
      "Writing is completed in 0.63 seconds.\n",
      "\n"
     ]
    }
   ],
   "source": [
    "out = r\"C:/Users/pcuser/Documents/Acads/GmE 203/Project/LAS Data/classified_segment-lidar_pc_zam.las\"\n",
    "\n",
    "model = samlidar.SamLidar(ckpt_path=\"sam_vit_h_4b8939.pth\")\n",
    "points = model.read(pc_urbanFile)\n",
    "cloud, non_ground, ground = model.csf(points)\n",
    "labels, *_ = model.segment(points=cloud, image_path=\"raster.tif\", labels_path=\"labeled.tif\")\n",
    "model.write(points=points, non_ground=non_ground, ground=ground, segment_ids=labels, save_path=out)"
   ]
  },
  {
   "cell_type": "code",
   "execution_count": 64,
   "id": "76a1a3f9",
   "metadata": {},
   "outputs": [
    {
     "name": "stdout",
     "output_type": "stream",
     "text": [
      "Elapsed Time: 87.474845 seconds\n",
      "Memory Usage: 3477.61 MB\n"
     ]
    }
   ],
   "source": [
    "# End measuring the execution time\n",
    "end_time = time.time()\n",
    "\n",
    "# Calculate the elapsed time\n",
    "elapsed_time = end_time - start_time\n",
    "\n",
    "# Get the memory usage after running the algorithm\n",
    "process = psutil.Process(os.getpid())\n",
    "memory_info = process.memory_info()\n",
    "memory_usage = memory_info.rss / (1024 * 1024)  # Convert to megabytes\n",
    "\n",
    "# Print the results\n",
    "print(\"Elapsed Time: {:.6f} seconds\".format(elapsed_time))\n",
    "print(\"Memory Usage: {:.2f} MB\".format(memory_usage))"
   ]
  },
  {
   "cell_type": "code",
   "execution_count": 65,
   "id": "24b28a4e",
   "metadata": {},
   "outputs": [
    {
     "name": "stdout",
     "output_type": "stream",
     "text": [
      "No. of Clusters:  90\n"
     ]
    }
   ],
   "source": [
    "print (\"No. of Clusters: \", len(np.unique(labels)))"
   ]
  },
  {
   "cell_type": "code",
   "execution_count": 84,
   "id": "2d41182f",
   "metadata": {},
   "outputs": [
    {
     "data": {
      "text/html": [
       "<div>\n",
       "<style scoped>\n",
       "    .dataframe tbody tr th:only-of-type {\n",
       "        vertical-align: middle;\n",
       "    }\n",
       "\n",
       "    .dataframe tbody tr th {\n",
       "        vertical-align: top;\n",
       "    }\n",
       "\n",
       "    .dataframe thead th {\n",
       "        text-align: right;\n",
       "    }\n",
       "</style>\n",
       "<table border=\"1\" class=\"dataframe\">\n",
       "  <thead>\n",
       "    <tr style=\"text-align: right;\">\n",
       "      <th></th>\n",
       "      <th>Model</th>\n",
       "      <th>NO. OF POINT CLOUDS:</th>\n",
       "      <th>NO. OF CLUSTERS</th>\n",
       "      <th>ELAPSED TIME (S)</th>\n",
       "      <th>MEMORY USAGE (MB):</th>\n",
       "    </tr>\n",
       "  </thead>\n",
       "  <tbody>\n",
       "    <tr>\n",
       "      <th>0</th>\n",
       "      <td>HDBSCAN_UP-AVE_NON-G</td>\n",
       "      <td>449527</td>\n",
       "      <td>8</td>\n",
       "      <td>19.264660</td>\n",
       "      <td>3307.43</td>\n",
       "    </tr>\n",
       "    <tr>\n",
       "      <th>1</th>\n",
       "      <td>HDBSCAN_ZAMBALES_NON-G</td>\n",
       "      <td>885221</td>\n",
       "      <td>1140</td>\n",
       "      <td>46.426360</td>\n",
       "      <td>3425.13</td>\n",
       "    </tr>\n",
       "    <tr>\n",
       "      <th>2</th>\n",
       "      <td>HDBSCAN_UP-AVE</td>\n",
       "      <td>858253</td>\n",
       "      <td>45</td>\n",
       "      <td>51.983993</td>\n",
       "      <td>3430.33</td>\n",
       "    </tr>\n",
       "    <tr>\n",
       "      <th>3</th>\n",
       "      <td>HDBSCAN_ZAMBALES</td>\n",
       "      <td>2200062</td>\n",
       "      <td>241</td>\n",
       "      <td>249.620659</td>\n",
       "      <td>3575.50</td>\n",
       "    </tr>\n",
       "    <tr>\n",
       "      <th>4</th>\n",
       "      <td>SEGMENT-LIDAR_UP-AVE</td>\n",
       "      <td>858253</td>\n",
       "      <td>44</td>\n",
       "      <td>115.000000</td>\n",
       "      <td>3310.18</td>\n",
       "    </tr>\n",
       "    <tr>\n",
       "      <th>5</th>\n",
       "      <td>SEGMENT-LIDAR_ZAMBALES</td>\n",
       "      <td>2200062</td>\n",
       "      <td>90</td>\n",
       "      <td>86.200000</td>\n",
       "      <td>3477.61</td>\n",
       "    </tr>\n",
       "  </tbody>\n",
       "</table>\n",
       "</div>"
      ],
      "text/plain": [
       "                    Model  NO. OF POINT CLOUDS:   NO. OF CLUSTERS  \\\n",
       "0    HDBSCAN_UP-AVE_NON-G                 449527                8   \n",
       "1  HDBSCAN_ZAMBALES_NON-G                 885221             1140   \n",
       "2          HDBSCAN_UP-AVE                 858253               45   \n",
       "3        HDBSCAN_ZAMBALES                2200062              241   \n",
       "4    SEGMENT-LIDAR_UP-AVE                 858253               44   \n",
       "5  SEGMENT-LIDAR_ZAMBALES                2200062               90   \n",
       "\n",
       "   ELAPSED TIME (S)  MEMORY USAGE (MB):   \n",
       "0         19.264660              3307.43  \n",
       "1         46.426360              3425.13  \n",
       "2         51.983993              3430.33  \n",
       "3        249.620659              3575.50  \n",
       "4        115.000000              3310.18  \n",
       "5         86.200000              3477.61  "
      ]
     },
     "execution_count": 84,
     "metadata": {},
     "output_type": "execute_result"
    }
   ],
   "source": [
    "data = {'Model':['HDBSCAN_UP-AVE_NON-G', 'HDBSCAN_ZAMBALES_NON-G', 'HDBSCAN_UP-AVE', 'HDBSCAN_ZAMBALES','SEGMENT-LIDAR_UP-AVE', 'SEGMENT-LIDAR_ZAMBALES'],\\\n",
    "        'NO. OF POINT CLOUDS: ':[449527, 885221, 858253, 2200062, 858253, 2200062],\\\n",
    "        'NO. OF CLUSTERS':[8, 1140, 45, 241, 44, 90],\\\n",
    "        'ELAPSED TIME (S)':[19.26466, 46.42636, 51.983993, 249.620659, 115.0000, 86.2000],\\\n",
    "        'MEMORY USAGE (MB): ': [3307.43, 3425.13, 3430.33, 3575.50, 3310.18, 3477.61]}\n",
    "\n",
    "df = pd.DataFrame(data)\n",
    "\n",
    "df"
   ]
  },
  {
   "cell_type": "code",
   "execution_count": null,
   "id": "ff46f850",
   "metadata": {},
   "outputs": [],
   "source": []
  }
 ],
 "metadata": {
  "kernelspec": {
   "display_name": "Python 3 (ipykernel)",
   "language": "python",
   "name": "python3"
  },
  "language_info": {
   "codemirror_mode": {
    "name": "ipython",
    "version": 3
   },
   "file_extension": ".py",
   "mimetype": "text/x-python",
   "name": "python",
   "nbconvert_exporter": "python",
   "pygments_lexer": "ipython3",
   "version": "3.9.16"
  }
 },
 "nbformat": 4,
 "nbformat_minor": 5
}
