{
 "cells": [
  {
   "cell_type": "code",
   "execution_count": 1,
   "id": "93fc9d73",
   "metadata": {},
   "outputs": [],
   "source": [
    "# By Cristian Perez \n",
    "# By Christian Candido"
   ]
  },
  {
   "cell_type": "code",
   "execution_count": 2,
   "id": "05960767-50a3-4d97-b559-12dd770c9364",
   "metadata": {
    "tags": []
   },
   "outputs": [],
   "source": [
    "# Data Manipulation\n",
    "import numpy as np\n",
    "import pandas as pd \n",
    "\n",
    "# LAS \n",
    "import laspy\n",
    "import CSF\n",
    "\n",
    "# Clustering\n",
    "import hdbscan\n",
    "\n",
    "# data visualization\n",
    "import matplotlib.pyplot as plt\n",
    "from yellowbrick.cluster import KElbowVisualizer # cluster visualizer\n",
    "%matplotlib inline\n",
    "\n",
    "# sklearn kmeans\n",
    "from sklearn.cluster import KMeans\n",
    "from sklearn.metrics.cluster import contingency_matrix\n",
    "from pyclustering.cluster import cluster_visualizer\n",
    "from pyclustering.samples.definitions import SIMPLE_SAMPLES\n",
    "from pyclustering.utils import read_sample\n",
    "from pyclustering.nnet.cnn import cnn_network, cnn_visualizer"
   ]
  },
  {
   "cell_type": "code",
   "execution_count": 4,
   "id": "52949182-c317-421a-9142-963c1d1ab021",
   "metadata": {},
   "outputs": [],
   "source": [
    "file = r'C:/Users/pcuser/Documents/Acads/GmE 203/Project/LAS File/cloud.las' # Point Cloud "
   ]
  },
  {
   "cell_type": "code",
   "execution_count": 5,
   "id": "440b3589-7633-44db-9fce-c5eef8d56b12",
   "metadata": {},
   "outputs": [
    {
     "data": {
      "text/plain": [
       "<ScaleAwarePointRecord(fmt: <PointFormat(2, 0 bytes of extra dims)>, len: 858253, point size: 26)>"
      ]
     },
     "execution_count": 5,
     "metadata": {},
     "output_type": "execute_result"
    }
   ],
   "source": [
    "las_file = laspy.read(file) # Read LAS File \n",
    "points = las_file.points # Access Point Cloud \n",
    "points"
   ]
  },
  {
   "cell_type": "code",
   "execution_count": 6,
   "id": "a9d4ae16-e410-4d20-ba66-731e95491495",
   "metadata": {
    "tags": []
   },
   "outputs": [
    {
     "data": {
      "text/plain": [
       "['X',\n",
       " 'Y',\n",
       " 'Z',\n",
       " 'intensity',\n",
       " 'return_number',\n",
       " 'number_of_returns',\n",
       " 'scan_direction_flag',\n",
       " 'edge_of_flight_line',\n",
       " 'classification',\n",
       " 'synthetic',\n",
       " 'key_point',\n",
       " 'withheld',\n",
       " 'scan_angle_rank',\n",
       " 'user_data',\n",
       " 'point_source_id',\n",
       " 'red',\n",
       " 'green',\n",
       " 'blue']"
      ]
     },
     "execution_count": 6,
     "metadata": {},
     "output_type": "execute_result"
    }
   ],
   "source": [
    "point_format = las_file.point_format # Access properties of point clouds\n",
    "list(point_format.dimension_names)"
   ]
  },
  {
   "cell_type": "code",
   "execution_count": 7,
   "id": "6881da70",
   "metadata": {},
   "outputs": [],
   "source": [
    "point_cloud = np.vstack((points.x, points.y, points.z)).transpose() # Extract X, Y, Z and put into a List "
   ]
  },
  {
   "cell_type": "code",
   "execution_count": 8,
   "id": "d9d4158e",
   "metadata": {},
   "outputs": [],
   "source": [
    "csf = CSF.CSF()\n",
    "\n",
    "# Parameter Setting\n",
    "csf.params.bSloopSmooth = False\n",
    "csf.params.cloth_resolution = 0.50 # more details about parameter: http://ramm.bnu.edu.cn/projects/CSF/download/"
   ]
  },
  {
   "cell_type": "code",
   "execution_count": 9,
   "id": "993456d0",
   "metadata": {},
   "outputs": [],
   "source": [
    "csf.setPointCloud(point_cloud)\n",
    "\n",
    "ground = CSF.VecInt() # a list to indicate the index of ground points after calculation\n",
    "non_ground = CSF.VecInt() # a list to indicate the index of non-ground points after calculation\n",
    "csf.do_filtering(ground, non_ground)"
   ]
  },
  {
   "cell_type": "code",
   "execution_count": 85,
   "id": "72bc2d1e",
   "metadata": {},
   "outputs": [],
   "source": [
    "outFile = laspy.LasData(las_file.header)\n",
    "outFile.points = points[np.array(ground)] # extract non_ground points, and save it to a las file."
   ]
  },
  {
   "cell_type": "code",
   "execution_count": 86,
   "id": "525b114c",
   "metadata": {},
   "outputs": [
    {
     "ename": "",
     "evalue": "",
     "output_type": "error",
     "traceback": [
      "\u001b[1;31mThe Kernel crashed while executing code in the the current cell or a previous cell. Please review the code in the cell(s) to identify a possible cause of the failure. Click <a href='https://aka.ms/vscodeJupyterKernelCrash'>here</a> for more info. View Jupyter <a href='command:jupyter.viewOutput'>log</a> for further details."
     ]
    }
   ],
   "source": [
    "outFile.write(r\"C:/Users/pcuser/Documents/Acads/GmE 203/Project/LAS File/out_ground.las\")"
   ]
  },
  {
   "cell_type": "code",
   "execution_count": 81,
   "id": "adae0749",
   "metadata": {},
   "outputs": [],
   "source": [
    "outPoint_format = outFile.point_format # Access properties of point clouds\n",
    "list(outPoint_format.dimension_names)\n",
    "\n",
    "outPoints = outFile.points\n",
    "\n",
    "outPoint_cloud = np.vstack((outPoints.x, outPoints.y, outPoints.z, outPoints.red, outPoints.blue, outPoints.green)).transpose() # Extract X, Y, Z and put into a List \n",
    "# outPoint_cloud = np.vstack((outPoints.x, outPoints.y, outPoints.z)).transpose()\n",
    "# outPoint_cloud = np.vstack((outPoints.red, outPoints.blue, outPoints.green)).transpose()"
   ]
  },
  {
   "cell_type": "code",
   "execution_count": 79,
   "id": "449811e3-662c-4148-80c0-587880b26b06",
   "metadata": {
    "tags": []
   },
   "outputs": [],
   "source": [
    "# Set-up parameter for HDBSCAN\n",
    "clusterer = hdbscan.HDBSCAN(min_cluster_size=100)\n",
    "\n",
    "# Cluster point clouds using HDBSCAN\n",
    "labels = clusterer.fit_predict(outPoint_cloud)"
   ]
  },
  {
   "cell_type": "code",
   "execution_count": 80,
   "id": "832244fa",
   "metadata": {},
   "outputs": [
    {
     "data": {
      "text/plain": [
       "166"
      ]
     },
     "execution_count": 80,
     "metadata": {},
     "output_type": "execute_result"
    }
   ],
   "source": [
    "len(np.unique(labels))"
   ]
  },
  {
   "cell_type": "code",
   "execution_count": 82,
   "id": "c2921102",
   "metadata": {},
   "outputs": [
    {
     "name": "stderr",
     "output_type": "stream",
     "text": [
      "c:\\Users\\pcuser\\mambaforge\\envs\\yolov5\\lib\\site-packages\\sklearn\\cluster\\_kmeans.py:870: FutureWarning: The default value of `n_init` will change from 10 to 'auto' in 1.4. Set the value of `n_init` explicitly to suppress the warning\n",
      "  warnings.warn(\n",
      "c:\\Users\\pcuser\\mambaforge\\envs\\yolov5\\lib\\site-packages\\sklearn\\cluster\\_kmeans.py:870: FutureWarning: The default value of `n_init` will change from 10 to 'auto' in 1.4. Set the value of `n_init` explicitly to suppress the warning\n",
      "  warnings.warn(\n",
      "c:\\Users\\pcuser\\mambaforge\\envs\\yolov5\\lib\\site-packages\\sklearn\\cluster\\_kmeans.py:870: FutureWarning: The default value of `n_init` will change from 10 to 'auto' in 1.4. Set the value of `n_init` explicitly to suppress the warning\n",
      "  warnings.warn(\n",
      "c:\\Users\\pcuser\\mambaforge\\envs\\yolov5\\lib\\site-packages\\sklearn\\cluster\\_kmeans.py:870: FutureWarning: The default value of `n_init` will change from 10 to 'auto' in 1.4. Set the value of `n_init` explicitly to suppress the warning\n",
      "  warnings.warn(\n",
      "c:\\Users\\pcuser\\mambaforge\\envs\\yolov5\\lib\\site-packages\\sklearn\\cluster\\_kmeans.py:870: FutureWarning: The default value of `n_init` will change from 10 to 'auto' in 1.4. Set the value of `n_init` explicitly to suppress the warning\n",
      "  warnings.warn(\n",
      "c:\\Users\\pcuser\\mambaforge\\envs\\yolov5\\lib\\site-packages\\sklearn\\cluster\\_kmeans.py:870: FutureWarning: The default value of `n_init` will change from 10 to 'auto' in 1.4. Set the value of `n_init` explicitly to suppress the warning\n",
      "  warnings.warn(\n",
      "c:\\Users\\pcuser\\mambaforge\\envs\\yolov5\\lib\\site-packages\\sklearn\\cluster\\_kmeans.py:870: FutureWarning: The default value of `n_init` will change from 10 to 'auto' in 1.4. Set the value of `n_init` explicitly to suppress the warning\n",
      "  warnings.warn(\n",
      "c:\\Users\\pcuser\\mambaforge\\envs\\yolov5\\lib\\site-packages\\sklearn\\cluster\\_kmeans.py:870: FutureWarning: The default value of `n_init` will change from 10 to 'auto' in 1.4. Set the value of `n_init` explicitly to suppress the warning\n",
      "  warnings.warn(\n",
      "c:\\Users\\pcuser\\mambaforge\\envs\\yolov5\\lib\\site-packages\\sklearn\\cluster\\_kmeans.py:870: FutureWarning: The default value of `n_init` will change from 10 to 'auto' in 1.4. Set the value of `n_init` explicitly to suppress the warning\n",
      "  warnings.warn(\n",
      "c:\\Users\\pcuser\\mambaforge\\envs\\yolov5\\lib\\site-packages\\sklearn\\cluster\\_kmeans.py:870: FutureWarning: The default value of `n_init` will change from 10 to 'auto' in 1.4. Set the value of `n_init` explicitly to suppress the warning\n",
      "  warnings.warn(\n"
     ]
    },
    {
     "data": {
      "image/png": "[encoded data removed]",
      "text/plain": [
       "<Figure size 800x550 with 2 Axes>"
      ]
     },
     "metadata": {},
     "output_type": "display_data"
    }
   ],
   "source": [
    "# Instantiate the clustering model and visualizer\n",
    "model = KMeans()\n",
    "visualizer = KElbowVisualizer(model, k=(1, 11))\n",
    "\n",
    "visualizer.fit(outPoint_cloud) # Fit the data to the visualizer\n",
    "visualizer.show() # Finalize and render the figure\n",
    "plt.show()"
   ]
  },
  {
   "cell_type": "code",
   "execution_count": 83,
   "id": "9dcae140",
   "metadata": {},
   "outputs": [
    {
     "name": "stderr",
     "output_type": "stream",
     "text": [
      "c:\\Users\\pcuser\\mambaforge\\envs\\yolov5\\lib\\site-packages\\sklearn\\cluster\\_kmeans.py:870: FutureWarning: The default value of `n_init` will change from 10 to 'auto' in 1.4. Set the value of `n_init` explicitly to suppress the warning\n",
      "  warnings.warn(\n"
     ]
    }
   ],
   "source": [
    "# instatiate KMeans class and set the number of clusters\n",
    "km_model = KMeans(n_clusters=3, random_state=10)\n",
    "\n",
    "# call fit method with data \n",
    "km = km_model.fit_predict(outPoint_cloud)\n",
    "\n",
    "# coordinates of cluster center\n",
    "centroids = km_model.cluster_centers_ \n",
    "\n",
    "# cluster label for each data point\n",
    "labels = km_model.labels_ "
   ]
  },
  {
   "cell_type": "code",
   "execution_count": 84,
   "id": "5e92db0c",
   "metadata": {},
   "outputs": [
    {
     "data": {
      "text/plain": [
       "3"
      ]
     },
     "execution_count": 84,
     "metadata": {},
     "output_type": "execute_result"
    }
   ],
   "source": [
    "print (\"No. of Clusters: \", len(np.unique(labels)))"
   ]
  },
  {
   "cell_type": "code",
   "execution_count": 49,
   "id": "82fd59fa",
   "metadata": {},
   "outputs": [],
   "source": [
    "# Create a new header for clustered label\n",
    "header = laspy.LasHeader(point_format=3, version=\"1.2\") \n",
    "header.add_extra_dim(laspy.ExtraBytesParams(name=\"Clusters\", type=np.int32))"
   ]
  },
  {
   "cell_type": "code",
   "execution_count": 50,
   "id": "ef354a12",
   "metadata": {},
   "outputs": [],
   "source": [
    "las = laspy.LasData(header)\n",
    "\n",
    "las.x = outPoints.x     # x-coordinate\n",
    "las.y = outPoints.y     # y-coordinate\n",
    "las.z = outPoints.z     # z-coordinate\n",
    "las.Clusters = labels   # clustered label\n",
    "las.write(r\"C:/Users/pcuser/Documents/Acads/GmE 203/Project/LAS File/classified_hdbscan_xyz_ground.las\") # write las file "
   ]
  },
  {
   "cell_type": "code",
   "execution_count": 39,
   "id": "00e9983b",
   "metadata": {},
   "outputs": [],
   "source": [
    "del clusterer, labels, las"
   ]
  },
  {
   "cell_type": "code",
   "execution_count": null,
   "id": "19d7b226",
   "metadata": {},
   "outputs": [],
   "source": []
  }
 ],
 "metadata": {
  "kernelspec": {
   "display_name": "Python 3 (ipykernel)",
   "language": "python",
   "name": "python3"
  },
  "language_info": {
   "codemirror_mode": {
    "name": "ipython",
    "version": 3
   },
   "file_extension": ".py",
   "mimetype": "text/x-python",
   "name": "python",
   "nbconvert_exporter": "python",
   "pygments_lexer": "ipython3",
   "version": "3.9.16"
  }
 },
 "nbformat": 4,
 "nbformat_minor": 5
}
